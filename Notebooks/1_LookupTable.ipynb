{
 "cells": [
  {
   "cell_type": "markdown",
   "id": "b37821a8-c57a-4633-92fe-dfaf3ea87d9f",
   "metadata": {},
   "source": [
    "# Generate Lookup Table for Two Layers"
   ]
  },
  {
   "cell_type": "code",
   "execution_count": 2,
   "id": "6740b461-1462-42b2-8ad1-9a16b225e660",
   "metadata": {},
   "outputs": [],
   "source": [
    "import empymod\n",
    "import numpy as np\n",
    "import matplotlib.pyplot as plt\n",
    "import time\n",
    "from joblib import Parallel, delayed\n",
    "from scipy.constants import mu_0\n",
    "\n",
    "import sys\n",
    "sys.path.insert(1, '../src')\n",
    "\n",
    "from EM1D import EMforward2lay"
   ]
  },
  {
   "cell_type": "markdown",
   "id": "dbb79c74-d8a9-4f49-acc2-1881c9f85188",
   "metadata": {},
   "source": [
    "## Define the geometry of the EM instrument"
   ]
  },
  {
   "cell_type": "code",
   "execution_count": 3,
   "id": "7026ebda-635f-4c1e-85a3-ba3586f16601",
   "metadata": {},
   "outputs": [],
   "source": [
    "# Define Dualem-482 geometry\n",
    "\n",
    "offsets = np.array([2, 4, 8]) # in meters\n",
    "height = 0.10 # meters height From ground surface to center of coils\n",
    "\n",
    "# Frequency\n",
    "freq = 9000"
   ]
  },
  {
   "cell_type": "markdown",
   "id": "b02fd18f-7cbc-49d8-a6bd-8747a6310784",
   "metadata": {},
   "source": [
    "## Define the ranges of conductivities and thicknesses to sample"
   ]
  },
  {
   "cell_type": "code",
   "execution_count": 4,
   "id": "73f4c4ad-2561-4243-8beb-15ca62e677ce",
   "metadata": {},
   "outputs": [],
   "source": [
    "# sampling of conductivities\n",
    "nsl = 51 # number of samples\n",
    "\n",
    "s0 = -3 # minimum conductivity in S/m\n",
    "s1 = 0 # maximum conductivity in S/m\n",
    "# conductivities array\n",
    "conds = np.logspace(s0, s1, nsl)\n",
    "\n",
    "# Sampling of 1st layer thickness\n",
    "th0 = 0.1 # minimum thickness in m\n",
    "th1 = 7   # maximum thickness in m\n",
    "# thickness array\n",
    "thicks = np.linspace(th0, th1, nsl)"
   ]
  },
  {
   "cell_type": "markdown",
   "id": "a21b4e09-4313-4264-bc87-e94282df1271",
   "metadata": {},
   "source": [
    "## Generate the Lookup Table"
   ]
  },
  {
   "cell_type": "code",
   "execution_count": 5,
   "id": "4fea325c-4391-4726-8dbc-47d1cf6b13a0",
   "metadata": {},
   "outputs": [
    {
     "name": "stderr",
     "output_type": "stream",
     "text": [
      "[Parallel(n_jobs=-1)]: Using backend LokyBackend with 8 concurrent workers.\n",
      "[Parallel(n_jobs=-1)]: Done  34 tasks      | elapsed:    1.7s\n",
      "[Parallel(n_jobs=-1)]: Done 976 tasks      | elapsed:    4.0s\n",
      "[Parallel(n_jobs=-1)]: Done 2976 tasks      | elapsed:    9.9s\n",
      "[Parallel(n_jobs=-1)]: Done 5776 tasks      | elapsed:   17.7s\n",
      "[Parallel(n_jobs=-1)]: Done 9376 tasks      | elapsed:   27.8s\n",
      "[Parallel(n_jobs=-1)]: Done 13776 tasks      | elapsed:   40.1s\n",
      "[Parallel(n_jobs=-1)]: Done 18976 tasks      | elapsed:   53.3s\n",
      "[Parallel(n_jobs=-1)]: Done 24976 tasks      | elapsed:  1.2min\n",
      "[Parallel(n_jobs=-1)]: Done 31776 tasks      | elapsed:  1.5min\n",
      "[Parallel(n_jobs=-1)]: Done 39376 tasks      | elapsed:  1.8min\n",
      "[Parallel(n_jobs=-1)]: Done 47776 tasks      | elapsed:  2.2min\n",
      "[Parallel(n_jobs=-1)]: Done 56976 tasks      | elapsed:  2.7min\n",
      "[Parallel(n_jobs=-1)]: Done 66976 tasks      | elapsed:  3.2min\n",
      "[Parallel(n_jobs=-1)]: Done 77776 tasks      | elapsed:  3.7min\n",
      "[Parallel(n_jobs=-1)]: Done 89376 tasks      | elapsed:  4.2min\n",
      "[Parallel(n_jobs=-1)]: Done 101776 tasks      | elapsed:  4.6min\n",
      "[Parallel(n_jobs=-1)]: Done 114976 tasks      | elapsed:  5.3min\n",
      "[Parallel(n_jobs=-1)]: Done 128976 tasks      | elapsed:  5.9min\n"
     ]
    },
    {
     "name": "stdout",
     "output_type": "stream",
     "text": [
      "Execution time in seconds: 366.69854402542114\n"
     ]
    },
    {
     "name": "stderr",
     "output_type": "stream",
     "text": [
      "[Parallel(n_jobs=-1)]: Done 132636 out of 132651 | elapsed:  6.1min remaining:    0.0s\n",
      "[Parallel(n_jobs=-1)]: Done 132651 out of 132651 | elapsed:  6.1min finished\n"
     ]
    }
   ],
   "source": [
    "startTime = time.time()\n",
    "\n",
    "DataEM = Parallel(n_jobs=-1,verbose=1)(delayed(EMforward2lay)(sigma1, sigma2, thick1, offsets, height, freq) \\\n",
    "                                       for sigma1 in conds for sigma2 in conds for thick1 in thicks)\n",
    "\n",
    "executionTime = (time.time() - startTime)\n",
    "print('Execution time in seconds: ' + str(executionTime))"
   ]
  },
  {
   "cell_type": "markdown",
   "id": "ade2401a-baef-4e30-ba15-f4b7d2db1485",
   "metadata": {},
   "source": [
    "## Save the Lookup Table and the sampling parameters"
   ]
  },
  {
   "cell_type": "code",
   "execution_count": 6,
   "id": "c8568165-293c-49cb-b764-ceaba2721ec9",
   "metadata": {},
   "outputs": [],
   "source": [
    "np.save('../data/LookupTable2Layers', DataEM)\n",
    "np.save('../data/conds_samples', conds)\n",
    "np.save('../data/thick_samples', thicks)"
   ]
  },
  {
   "cell_type": "markdown",
   "id": "2ba7c19a-8721-4677-b449-c6ec5bb270f6",
   "metadata": {},
   "source": [
    "## Save the models sampled"
   ]
  },
  {
   "cell_type": "code",
   "execution_count": 5,
   "id": "6885b14b-a2e6-435f-bfd4-cd44e5928e03",
   "metadata": {},
   "outputs": [],
   "source": [
    "models = []\n",
    "\n",
    "for c1 in conds:\n",
    "    for c2 in conds:\n",
    "        for t1 in thicks:\n",
    "            models.append([c1,c2,t1])\n",
    "            \n",
    "models = np.array(models)\n",
    "\n",
    "np.save('../data/models', models)"
   ]
  },
  {
   "cell_type": "code",
   "execution_count": null,
   "id": "60be58e5-fff6-4dd6-bc8b-0be93b5e66b8",
   "metadata": {},
   "outputs": [],
   "source": []
  }
 ],
 "metadata": {
  "kernelspec": {
   "display_name": "Python 3 (ipykernel)",
   "language": "python",
   "name": "python3"
  },
  "language_info": {
   "codemirror_mode": {
    "name": "ipython",
    "version": 3
   },
   "file_extension": ".py",
   "mimetype": "text/x-python",
   "name": "python",
   "nbconvert_exporter": "python",
   "pygments_lexer": "ipython3",
   "version": "3.8.10"
  }
 },
 "nbformat": 4,
 "nbformat_minor": 5
}
