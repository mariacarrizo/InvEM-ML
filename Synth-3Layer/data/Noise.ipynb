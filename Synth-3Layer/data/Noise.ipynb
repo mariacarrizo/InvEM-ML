{
 "cells": [
  {
   "cell_type": "markdown",
   "id": "6824f67e-4278-4df5-88cf-2717bea704f1",
   "metadata": {},
   "source": [
    "## Noisy results"
   ]
  },
  {
   "cell_type": "code",
   "execution_count": null,
   "id": "28cfa16c-383a-4194-9206-e9fe8d287e23",
   "metadata": {},
   "outputs": [],
   "source": [
    "%matplotlib widget"
   ]
  },
  {
   "cell_type": "code",
   "execution_count": null,
   "id": "354d5758-103f-4be4-a643-9ced7595903a",
   "metadata": {},
   "outputs": [],
   "source": [
    "# Import libraries\n",
    "#import empymod\n",
    "import numpy as np\n",
    "import matplotlib.pyplot as plt\n",
    "from scipy.constants import mu_0\n",
    "import pandas as pd\n",
    "import pygimli as pg\n",
    "\n",
    "import sys\n",
    "sys.path.insert(1, '../../src')\n",
    "\n",
    "from PlotModel import PlotModelCond_3lay, PlotErrorSpace, PlotData, rmse_a\n",
    "from EM1D import EMforward3lay"
   ]
  },
  {
   "cell_type": "code",
   "execution_count": null,
   "id": "a8f2c728-1087-45f5-8e0b-241cc71627ac",
   "metadata": {},
   "outputs": [],
   "source": [
    "# Import the conductivities and thicknesses used to create the LU table\n",
    "\n",
    "conds = np.load('../data/conds.npy')\n",
    "thick = np.load('../data/thicks.npy')\n",
    "\n",
    "model_true = np.load('../data/B1_w/model_synth_w.npy')\n",
    "data_true =  np.load('../data/B1_w/data_synth_w.npy')\n",
    "\n",
    "# Load with noise\n",
    "model_est_FS_noise2 = np.load('../data/B1_noise2_w/model_est_FS_B1_noise2_w.npy')\n",
    "model_est_FS_noise5 = np.load('../data/B1_noise5_w/model_est_FS_B1_noise5_w.npy')\n",
    "model_est_FS_noise10 = np.load('../data/B1_noise10_w/model_est_FS_B1_noise10_w.npy')\n",
    "\n",
    "data_true_noise2 = np.load('../data/B1_noise2_w/data_synth_noise2_w.npy')\n",
    "data_true_noise5 = np.load('../data/B1_noise5_w/data_synth_noise5_w.npy')\n",
    "data_true_noise10 =  np.load('../data/B1_noise10_w/data_synth_noise10_w.npy')\n",
    "\n",
    "npos = len(model_true)\n",
    "nlayer = 3\n",
    "\n",
    "depths_true = np.zeros((npos, nlayer))\n",
    "sigmas_true = np.zeros((npos, nlayer))\n",
    "\n",
    "depths_true[:,1] = model_true[:,3]\n",
    "depths_true[:,2] = model_true[:,3] + model_true[:,4]\n",
    "sigmas_true[:,:] = model_true[:,:3]"
   ]
  },
  {
   "cell_type": "code",
   "execution_count": null,
   "id": "050dadc3-bf53-4f83-8cca-a18e33b41542",
   "metadata": {},
   "outputs": [],
   "source": [
    "fig, ax = plt.subplots(3,2)\n",
    "PlotData(data_true, ax=ax)\n",
    "PlotData(data_true_noise2, ax=ax)"
   ]
  },
  {
   "cell_type": "code",
   "execution_count": null,
   "id": "a9ebeaa9-9ed3-4da0-ad4f-67670d81fa4d",
   "metadata": {},
   "outputs": [],
   "source": [
    "# Create forward modeller class\n",
    "\n",
    "class EMforward_3lay_noise2(pg.Modelling):\n",
    "    def __init__(self):\n",
    "        \"\"\"Initialize the model.\"\"\"\n",
    "        super().__init__()        \n",
    "    def response(self, x):\n",
    "        sig1 = x[0]\n",
    "        sig2 = x[1]\n",
    "        sig3 = x[2]\n",
    "        thk1 = x[3]\n",
    "        thk2 = x[4]\n",
    "        if (thk1+thk2) >= 10:\n",
    "            thk1 = 2\n",
    "            thk2 = 3\n",
    "        Z = EMforward3lay(sig1, sig2, sig3, thk1, thk2, height=0.47)                           \n",
    "        return Z[:9]\n",
    "    def createStartModel(self, dataVals):\n",
    "        thk_ini = [2,3]\n",
    "        sig_ini = [1, 1, 1]\n",
    "        x0 = sig_ini + thk_ini\n",
    "        return np.array(x0)"
   ]
  },
  {
   "cell_type": "code",
   "execution_count": null,
   "id": "b703edd8-8824-4631-917b-a1124f71862a",
   "metadata": {},
   "outputs": [],
   "source": [
    "# Initialize the forward modelling class\n",
    "EMf_3lay_n2 = EMforward_3lay_noise2()\n",
    "\n",
    "# Relative error array\n",
    "error = 1e-4 # introduce here the error you want to test\n",
    "relativeError = np.ones_like(data_true_noise2[0]) * error\n",
    "\n",
    "# Define inversion transformations\n",
    "transData = pg.trans.TransLog() # log transformation for data\n",
    "transModel = pg.trans.TransLog()  # log-transform ensures thk and res >0\n",
    "\n",
    "# Create inversion\n",
    "invEM = pg.Inversion()\n",
    "invEM.setForwardOperator(EMf_3lay_n2)\n",
    "\n",
    "invEM.transModel = transModel\n",
    "invEM.transData = transData\n",
    "\n",
    "# Start inversion\n",
    "model_est_noise2 = np.zeros_like(model_true)\n",
    "#chi2hist = [] # empty array to store the chi2 history\n",
    "#modelhist = [] # empty array to store the model history\n"
   ]
  },
  {
   "cell_type": "code",
   "execution_count": null,
   "id": "d8933cac-ba60-4db2-ad20-afb9c9355fe9",
   "metadata": {},
   "outputs": [],
   "source": [
    "# Perform inversion for each 1D model per position in stitched section\n",
    "for pos in range(npos):\n",
    "    dataE = data_true_noise2[pos].copy()\n",
    "    dataE *= np.random.randn(len(dataE)) * relativeError + 1.0\n",
    "    model_est_pos = invEM.run(dataE, relativeError, verbose=False, lam=10, maxIter=40)\n",
    "    #chi2hist.append(invEM.chi2History)\n",
    "    #modelhist.append(invEM.modelHistory)\n",
    "    model_est_noise2[pos] = model_est_pos"
   ]
  },
  {
   "cell_type": "code",
   "execution_count": null,
   "id": "61cf85e2-7a16-498e-8070-c5d708c0fb2b",
   "metadata": {},
   "outputs": [],
   "source": []
  }
 ],
 "metadata": {
  "kernelspec": {
   "display_name": "pg",
   "language": "python",
   "name": "pg"
  },
  "language_info": {
   "codemirror_mode": {
    "name": "ipython",
    "version": 3
   },
   "file_extension": ".py",
   "mimetype": "text/x-python",
   "name": "python",
   "nbconvert_exporter": "python",
   "pygments_lexer": "ipython3",
   "version": "3.9.15"
  }
 },
 "nbformat": 4,
 "nbformat_minor": 5
}
