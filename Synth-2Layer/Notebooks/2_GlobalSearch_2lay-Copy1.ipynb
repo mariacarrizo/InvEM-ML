{
 "cells": [
  {
   "cell_type": "markdown",
   "id": "592543d5-46ba-44f4-b278-f0998c9aa20b",
   "metadata": {},
   "source": [
    "# Global search using Lookup Table\n",
    "## Synthetic model with 2 layers"
   ]
  },
  {
   "cell_type": "code",
   "execution_count": 1,
   "id": "a4601115-47c4-4f6e-bb6e-4a6c729f1c11",
   "metadata": {},
   "outputs": [],
   "source": [
    "%matplotlib widget"
   ]
  },
  {
   "cell_type": "code",
   "execution_count": 2,
   "id": "98c3ac13-5724-444f-a2fd-a06b2affdb2e",
   "metadata": {},
   "outputs": [],
   "source": [
    "# Import libraries\n",
    "import empymod\n",
    "import numpy as np\n",
    "import matplotlib.pyplot as plt\n",
    "from scipy.constants import mu_0\n",
    "import pandas as pd\n",
    "import time\n",
    "\n",
    "import sys\n",
    "sys.path.insert(1, '../../src')\n",
    "\n",
    "from PlotModel import PlotModelCond_2lay, Plot3Models_2lay, PlotErrorSpace, PlotData, rmse_a\n",
    "from EM1D import EMforward2lay, GlobalSearch, ErrorSpace"
   ]
  },
  {
   "cell_type": "code",
   "execution_count": null,
   "id": "4e5a500a-343f-427f-8bfb-f67c28999c82",
   "metadata": {},
   "outputs": [],
   "source": [
    "def rse(targ, pred):\n",
    "    return np.sqrt(((pred - targ)**2/targ**2))\n",
    "\n",
    "def error(targ, pred):\n",
    "    return (pred - targ)/targ"
   ]
  },
  {
   "cell_type": "markdown",
   "id": "1a4ea4f2-3c9a-4bc2-a752-68cd664f2b32",
   "metadata": {},
   "source": [
    "### 1. Define the synthetic model"
   ]
  },
  {
   "cell_type": "code",
   "execution_count": null,
   "id": "a70c71be-062a-48ae-8370-520bf1cddfc5",
   "metadata": {},
   "outputs": [],
   "source": [
    "# Import the conductivities and thicknesses used to create the LU table\n",
    "\n",
    "conds = np.load('../data/conds_samples.npy')\n",
    "thick = np.load('../data/thick_samples.npy')\n",
    "\n",
    "# parameters for the synthetic model\n",
    "\n",
    "nlayer = 2 # number of layer\n",
    "npos = 20 # number of sampling positions\n",
    "\n",
    "sig_ini = [200/1000, 10/1000] # conductivities of the layers\n",
    "sigmas = np.ones((npos, nlayer))*sig_ini # conductivity array\n",
    "\n",
    "x = np.linspace(0, 20, npos) # Horizontal positions array\n",
    "thk1 = 3 + x/10 +.25\n",
    "#thk1 = np.ones_like(x)*4 + np.sin(2*np.pi*x)   # wave boundary for the layers\n",
    "#thk1[10:] -= 2.5\n",
    "\n",
    "depths = np.zeros((npos, nlayer))\n",
    "depths[:,1] = thk1 \n",
    "\n",
    "model_true_grid = PlotModelCond_2lay(sigmas, depths, depths)\n",
    "plt.title('Stitched section 1D True Models')\n",
    "plt.text(0.1,-0.5,'a)', color='k',fontsize=15)\n",
    "plt.show()\n",
    "plt.tight_layout()\n",
    "#plt.savefig('../figures/TrueModel_2Lay_flip')"
   ]
  },
  {
   "cell_type": "markdown",
   "id": "afce1dc5-0dc0-4c31-b5d8-68e041be47b1",
   "metadata": {},
   "source": [
    "### 2. Create synthetic data to test the global search"
   ]
  },
  {
   "cell_type": "code",
   "execution_count": null,
   "id": "aa54a19e-de53-4f57-b4c9-d3889a561cc8",
   "metadata": {},
   "outputs": [],
   "source": [
    "# Create empty array for true model in each position\n",
    "model = np.stack((sigmas[:,0], sigmas[:,1], depths[:,1]), axis=1)\n",
    "\n",
    "# Create empty array for true data in each position\n",
    "data_true=[]\n",
    "\n",
    "# Simulate data in each position\n",
    "for i in range(npos):\n",
    "    data_true.append(EMforward2lay(sigmas[i][0], sigmas[i][1], depths[i][1], height = 0.10)) \n",
    "    \n",
    "data_true = np.array(data_true)"
   ]
  },
  {
   "cell_type": "code",
   "execution_count": null,
   "id": "2f61a06e-8898-40f1-aa0e-1d91cf558a3e",
   "metadata": {},
   "outputs": [],
   "source": [
    "np.save('../data/data_true_w_f', data_true)\n",
    "np.save('../data/model_true_w_f', model)\n",
    "np.save('../data/model_true_w_grid_f', model_true_grid)"
   ]
  },
  {
   "cell_type": "markdown",
   "id": "f1fe80a0-3f05-4580-9493-6979d31b928e",
   "metadata": {},
   "source": [
    "### 3. Normalize data sets due to offset"
   ]
  },
  {
   "cell_type": "code",
   "execution_count": null,
   "id": "96ac30f6-eabe-4c0b-aad7-c421e8bc896d",
   "metadata": {},
   "outputs": [],
   "source": [
    "LUT = np.load('../data/LookupTable2Layers.npy')\n",
    "\n",
    "#norm = np.array([4, 2, 1])\n",
    "\n",
    "#LUT_norm = LUT[:] * np.hstack([norm, norm, norm, norm, norm, norm])\n",
    "#data_true_norm = data_true[:] * np.hstack([norm, norm, norm, norm, norm, norm])"
   ]
  },
  {
   "cell_type": "markdown",
   "id": "9c74cbd1-1f14-4efb-aca3-13ab73214b60",
   "metadata": {},
   "source": [
    "### 3. Perform global search in each position"
   ]
  },
  {
   "cell_type": "code",
   "execution_count": null,
   "id": "fb639b76-16f2-4d64-82f3-cc80ae465cb7",
   "metadata": {},
   "outputs": [],
   "source": [
    "model_est = np.zeros_like(model)\n",
    "model_est_Q = np.zeros_like(model)\n",
    "model_est_IP = np.zeros_like(model)\n",
    "\n",
    "#LUT_norm_slice = LUT_norm[:,:15].copy()\n",
    "#LUT_norm_slice[:,:9] = LUT_norm[:,:9]\n",
    "#LUT_norm_slice[:,9:] = LUT_norm[:,12:]\n",
    "\n",
    "#data_true_norm_slice = data_true_norm[:,:15].copy()\n",
    "#data_true_norm_slice[:,9:] = data_true_norm[:,12:]\n",
    "\n",
    "# Estimate with both Quadrature and In Phase\n",
    "\n",
    "starttime = time.time()\n",
    "\n",
    "for p in range(npos):\n",
    "    #model_est[p] = GlobalSearch(LUT_norm, data_true_norm, conds, thick)\n",
    "    model_est[p] = GlobalSearch(LUT, data_true[p], conds, thick)\n",
    "\n",
    "endtime = time.time() - starttime\n",
    "\n",
    "print(endtime)"
   ]
  },
  {
   "cell_type": "code",
   "execution_count": null,
   "id": "3238337f-9219-496e-bb29-77d39cc1c51b",
   "metadata": {},
   "outputs": [],
   "source": [
    "# Estimate using only Quadrature\n",
    "for p in range(npos):\n",
    "    #model_est_Q[p] = GlobalSearch(LUT_norm[:,:9], data_true_norm[p,:9], conds, thick)\n",
    "    model_est_Q[p] = GlobalSearch(LUT[:,:9], data_true[p,:9], conds, thick)\n",
    "    \n",
    "# Estimate using only In Phase\n",
    "for p in range(npos):\n",
    "    #model_est_IP[p] = GlobalSearch(LUT_norm[:,9:], data_true_norm[p,9:], conds, thick)\n",
    "    model_est_IP[p] = GlobalSearch(LUT[:,9:], data_true[p,9:], conds, thick)"
   ]
  },
  {
   "cell_type": "code",
   "execution_count": null,
   "id": "56156b3a-142a-4259-9528-830d546940b3",
   "metadata": {},
   "outputs": [],
   "source": [
    "np.save('../data/model_est_w_f', model_est)\n",
    "np.save('../data/model_est_Q_w_f', model_est_Q)\n",
    "np.save('../data/model_est_IP_w_f', model_est_IP)"
   ]
  },
  {
   "cell_type": "markdown",
   "id": "2d23eba3-17e2-4c45-8d37-91c005e828ba",
   "metadata": {},
   "source": [
    "### 4. Plot Estimated model"
   ]
  },
  {
   "cell_type": "code",
   "execution_count": null,
   "id": "0f0be74b-c4d5-401c-8af1-a420be53f519",
   "metadata": {},
   "outputs": [],
   "source": [
    "#Plot3Models_2lay(model, model_est, model_est_Q, conds)\n",
    "#plt.show()"
   ]
  },
  {
   "cell_type": "code",
   "execution_count": null,
   "id": "6af16f75-0c4c-41d1-9625-11ff9ab5e2bf",
   "metadata": {},
   "outputs": [],
   "source": [
    "sigmas_est = model_est[:,:2]\n",
    "depths_est = depths.copy()\n",
    "depths_est[:,1] = model_est[:,2]\n",
    "\n",
    "sigmas_est_Q = model_est_Q[:,:2]\n",
    "depths_est_Q = depths.copy()\n",
    "depths_est_Q[:,1] = model_est_Q[:,2]\n",
    "\n",
    "sigmas_est_IP = model_est_IP[:,:2]\n",
    "depths_est_IP = depths.copy()\n",
    "depths_est_IP[:,1] = model_est_IP[:,2]\n",
    "\n",
    "model_est_grid = PlotModelCond_2lay(sigmas_est, depths_est, depth_true=depths)\n",
    "plt.title('Global search: [Q + IP]')\n",
    "plt.text(0.1,9.5,'$\\sigma$ RMSE: %2.2f' %(rmse_a(np.log10(np.hstack(sigmas)),\n",
    "                np.log10(np.hstack(sigmas_est)))*100)+ '% \\n' +\n",
    "                '$h$ RMSE: %2.2f' %(rmse_a(depths[:,1], depths_est[:,1])*100)+'%', color='w',fontsize=10)\n",
    "plt.text(0.1,-0.5,'b)', color='k',fontsize=15)\n",
    "plt.show()\n",
    "plt.tight_layout()\n",
    "#plt.savefig('../figures/GS_EstModel_Q+IP_2Lay_flip')\n"
   ]
  },
  {
   "cell_type": "code",
   "execution_count": null,
   "id": "77c2f30b-7290-440c-9e8a-86bdf1533f6b",
   "metadata": {},
   "outputs": [],
   "source": [
    "model_est_Q_grid = PlotModelCond_2lay(sigmas_est_Q, depths_est_Q, depth_true =depths)\n",
    "plt.title('Global search: [Q]')\n",
    "plt.text(0.1,9.5,'$\\sigma$ RMSE: %2.2f' %(rmse_a(np.log10(np.hstack(sigmas)),\n",
    "                np.log10(np.hstack(sigmas_est_Q)))*100)+ '% \\n' +\n",
    "                '$h$ RMSE: %2.2f' %(rmse_a(depths[:,1], depths_est_Q[:,1])*100)+'%', color='w',fontsize=10)\n",
    "plt.text(0.1,-0.5,'c)', color='k',fontsize=15)\n",
    "plt.show()\n",
    "plt.tight_layout()\n",
    "#plt.savefig('../figures/GS_EstModel_Q_2Lay_flip')\n",
    "\n",
    "model_est_IP_grid = PlotModelCond_2lay(sigmas_est_IP, depths_est_IP, depth_true=depths)\n",
    "plt.title('Global search: [IP]')\n",
    "plt.text(0.1,9.5,'$\\sigma$ RMSE: %2.2f' %(rmse_a(np.log10(np.hstack(sigmas)),\n",
    "                np.log10(np.hstack(sigmas_est_IP)))*100)+ '% \\n' +\n",
    "                '$h$ RMSE: %2.2f' %(rmse_a(depths[:,1], depths_est_IP[:,1])*100)+'%', color='w',fontsize=10)\n",
    "plt.text(0.1,-0.5,'d)', color='k',fontsize=15)\n",
    "plt.show()\n",
    "plt.tight_layout()\n",
    "#plt.savefig('../figures/GS_EstModel_IP_2Lay_flip')"
   ]
  },
  {
   "cell_type": "code",
   "execution_count": null,
   "id": "bcbd0aac-8258-45b5-99db-a75ec88dbe0d",
   "metadata": {},
   "outputs": [],
   "source": [
    "fig, ax = plt.subplots()\n",
    "\n",
    "error_est = np.abs((model_true_grid-model_est_grid)/model_true_grid)*100\n",
    "cf = ax.imshow(np.log10(error_est).T, extent=[0,npos,10,0], vmin=0, vmax=2,\n",
    "          cmap=plt.cm.get_cmap(\"RdBu_r\", 8))\n",
    "cbar = fig.colorbar(cf, ax=ax, label=r\"Relative Error\",  shrink=0.5)\n",
    "cbar.set_ticks([0, 1, 2])\n",
    "cbar.ax.set_yticklabels([ r\"$1\\,\\%$\",\n",
    "                         r\"$10\\,\\%$\", r\"$100\\,\\%$\"])\n",
    "plt.title('Relative Error [Q + IP]')\n",
    "plt.text(0.1,-0.5,'e)', color='k',fontsize=15)\n",
    "plt.xlabel('Horizontal distance [m]')\n",
    "plt.ylabel('Depth [m]')"
   ]
  },
  {
   "cell_type": "code",
   "execution_count": null,
   "id": "c4b1dbca-c95f-4d95-b470-1f4934f3b528",
   "metadata": {},
   "outputs": [],
   "source": [
    "fig, ax = plt.subplots()\n",
    "\n",
    "error_est = np.abs((model_true_grid-model_est_Q_grid)/model_true_grid)*100\n",
    "cf = ax.imshow(np.log10(error_est).T, extent=[0,npos,10,0], vmin=0, vmax=2,\n",
    "          cmap=plt.cm.get_cmap(\"RdBu_r\",8))\n",
    "cbar = fig.colorbar(cf, ax=ax, label=r\"Relative Error\",  shrink=0.5)\n",
    "cbar.set_ticks([ 0, 1, 2])\n",
    "cbar.ax.set_yticklabels([  r\"$1\\,\\%$\",\n",
    "                         r\"$10\\,\\%$\", r\"$100\\,\\%$\"])\n",
    "plt.title('Relative Error [Q]')\n",
    "plt.text(0.1,-0.5,'f)', color='k',fontsize=15)\n",
    "plt.xlabel('Horizontal distance [m]')\n",
    "plt.ylabel('Depth [m]')"
   ]
  },
  {
   "cell_type": "code",
   "execution_count": null,
   "id": "88bf2957-8769-4b55-98a2-4735ace7f3b2",
   "metadata": {},
   "outputs": [],
   "source": [
    "fig, ax = plt.subplots()\n",
    "\n",
    "error_est = np.abs((model_true_grid-model_est_IP_grid)/model_true_grid)*100\n",
    "cf = ax.imshow(np.log10(error_est).T, extent=[0,npos,10,0], vmin=0, vmax=2,\n",
    "          cmap=plt.cm.get_cmap(\"RdBu_r\", 8))\n",
    "cbar = fig.colorbar(cf, ax=ax, label=r\"Relative Error\",  shrink=0.5)\n",
    "cbar.set_ticks([ 0, 1, 2])\n",
    "cbar.ax.set_yticklabels([ r\"$1\\,\\%$\",\n",
    "                         r\"$10\\,\\%$\", r\"$100\\,\\%$\"])\n",
    "plt.title('Relative Error [IP]')\n",
    "plt.text(0.1,-0.5,'g)', color='k',fontsize=15)\n",
    "plt.xlabel('Horizontal distance [m]')\n",
    "plt.ylabel('Depth [m]')"
   ]
  },
  {
   "cell_type": "markdown",
   "id": "04d31764-057a-492c-b93e-a1a102f27dcd",
   "metadata": {},
   "source": [
    "### 5. Check the error space in a specific position"
   ]
  },
  {
   "cell_type": "code",
   "execution_count": null,
   "id": "2937b638-513e-4ff2-8d49-bd1ca7b1e23d",
   "metadata": {},
   "outputs": [],
   "source": [
    "# For example let's check the following position\n",
    "pos = 10\n",
    "\n",
    "# Simulate data for this position\n",
    "data_est_pos = EMforward2lay(model_est[pos,0], model_est[pos,1], model_est[pos,2], height=0.1)\n",
    "#data_est_pos_norm = data_est_pos * np.hstack([norm, norm, norm, norm, norm, norm])\n",
    "\n",
    "data_estQ_pos = EMforward2lay(model_est_Q[pos,0], model_est_Q[pos,1], model_est_Q[pos,2], height=0.1)\n",
    "#data_estQ_pos_norm = data_estQ_pos * np.hstack([norm, norm, norm, norm, norm, norm])\n",
    "\n",
    "data_estIP_pos = EMforward2lay(model_est_IP[pos,0], model_est_IP[pos,1], model_est_IP[pos,2], height=0.1)\n",
    "#data_estIP_pos_norm = data_estIP_pos * np.hstack([norm, norm, norm, norm, norm, norm])\n",
    "\n",
    "# Evaluate error space\n",
    "#err, models_err = ErrorSpace(LUT_norm, data_est_pos_norm, 0.1, conds, thick)\n",
    "#err_Q, models_err_Q = ErrorSpace(LUT_norm, data_estQ_pos_norm, 0.1, conds, thick)\n",
    "#err_IP, models_err_IP = ErrorSpace(LUT_norm, data_estIP_pos_norm, 0.1, conds, thick)\n",
    "err, models_err = ErrorSpace(LUT, data_est_pos, 0.09, conds, thick)\n",
    "#err_Q, models_err_Q = ErrorSpace(LUT, data_estQ_pos, 0.11, conds, thick)\n",
    "#err_IP, models_err_IP = ErrorSpace(LUT, data_estIP_pos, 0.11, conds, thick)"
   ]
  },
  {
   "cell_type": "code",
   "execution_count": null,
   "id": "46df628c-b886-4d4f-a968-f8ea148c674b",
   "metadata": {},
   "outputs": [],
   "source": [
    "conds1_b1 = models_err[:,0]\n",
    "conds2_b1 = models_err[:,1]\n",
    "thicks_b1 = models_err[:,2]\n",
    "\n",
    "fig = plt.figure()\n",
    "\n",
    "ax3D = fig.add_subplot(111, projection='3d')\n",
    "p = ax3D.scatter(((conds1_b1)*1000), ((conds2_b1)*1000), thicks_b1,\n",
    "                 s=5, c=err, marker='o', cmap='cool_r', alpha=0.4)\n",
    "ax3D.scatter(model_est[pos,0]*1000, model_est[pos,1]*1000, model_est[pos,2])\n",
    "ax3D.scatter(model[pos,0]*1000, model[pos,1]*1000, model[pos,2])\n",
    "ax3D.set_xlabel('$\\sigma_1$ [mS/m]')\n",
    "ax3D.set_ylabel('$\\sigma_2$ [mS/m]')\n",
    "ax3D.set_zlabel('Depth [m]')"
   ]
  },
  {
   "cell_type": "code",
   "execution_count": null,
   "id": "91922dc3-17e0-4164-a85c-558c39754c22",
   "metadata": {},
   "outputs": [],
   "source": [
    "# Error space using Q + IP\n",
    "import matplotlib.tri as tri\n",
    "\n",
    "def PlotErrorSpace(model, model_est, pos, err, models_err, depthmax=10):\n",
    "    \n",
    "    # Arrays to plot\n",
    "    depth_true = np.array([0, model[pos,2], depthmax])\n",
    "    depth_est = np.array([0, model_est[pos,2], depthmax])\n",
    "\n",
    "    sigma_true = np.hstack([model[pos,:2], model[pos,1]])\n",
    "    sigma_est = np.hstack([model_est[pos,:2], model_est[pos,1]])\n",
    "       \n",
    "    fig, ax = plt.subplots(1,2)\n",
    "    \n",
    "    ax[0].step(sigma_true*1000, depth_true, 'r', label = 'True')\n",
    "    ax[0].step(sigma_est*1000, depth_est, 'g', label='Estimated')\n",
    "    ax[0].invert_yaxis()\n",
    "    ax[0].set_ylabel('Depth [m]')\n",
    "    ax[0].set_xlabel('$\\sigma$ [mS/m]')\n",
    "    ax[0].set_title('Model at receiver Rx: ' +str(pos))\n",
    "    ax[0].set_xscale('log')\n",
    "    ax[0].legend()\n",
    "\n",
    "    x = (models_err[:,1])*1000 # conductivities of second layer\n",
    "    y = models_err[:,2]                  # thickness of first layer\n",
    "    z = err\n",
    "\n",
    "    ngridx = 100\n",
    "    ngridy = 200\n",
    "    \n",
    "    # Create grid values first.\n",
    "    xi = np.linspace(np.min(x), np.max(x), ngridx)\n",
    "    yi = np.linspace(np.min(y), np.max(y), ngridy)\n",
    "\n",
    "    # Linearly interpolate the data (x, y) on a grid defined by (xi, yi).\n",
    "    triang = tri.Triangulation(x, y)\n",
    "    interpolator = tri.LinearTriInterpolator(triang, z)\n",
    "    Xi, Yi = np.meshgrid(xi, yi)\n",
    "    zi = interpolator(Xi, Yi)\n",
    "    \n",
    "    # Note that scipy.interpolate provides means to interpolate data on a grid\n",
    "    # as well. The following would be an alternative to the four lines above:\n",
    "    # from scipy.interpolate import griddata\n",
    "    # zi = griddata((x, y), z, (xi[None, :], yi[:, None]), method='linear')\n",
    "\n",
    "    ax[1].contour(xi, yi, zi*100, levels=14, linewidths=0.5, colors='k')\n",
    "    cntr1 = ax[1].contourf(xi, yi, zi*100, levels=14, cmap=\"RdBu_r\")\n",
    "    ax[1].plot(x, y, '.k', ms=1)\n",
    "    ax[1].set(xlim=(1,12), ylim=(4,5.5))\n",
    "    ax[1].scatter((model_est[pos,1])*1000, model_est[pos,2],\n",
    "                 marker ='^', c='y', label='Estimated model')\n",
    "    #ax1.scatter( np.log10((model_cm_pos[1])*1000), model_cm_pos[2],\n",
    "    #             marker ='^', c='k', label='Closest')\n",
    "    ax[1].set_xlabel('$\\sigma_2 [mS/m]$')\n",
    "    ax[1].set_ylabel('Thickness $h_1$ [m]')\n",
    "    ax[1].legend()\n",
    "    clb = fig.colorbar(cntr1, ax=ax[1])\n",
    "    clb.ax.set_title('RMS Error %')\n",
    "\n",
    "PlotErrorSpace(model, model_est, pos, err, models_err)\n",
    "plt.tight_layout()\n",
    "plt.show()\n",
    "#plt.savefig('../figures/error_space')"
   ]
  },
  {
   "cell_type": "code",
   "execution_count": null,
   "id": "fedfd991-61c8-41b3-a0ee-73cb4b995c53",
   "metadata": {},
   "outputs": [],
   "source": [
    "## Let's test the Global search with noise added to data\n",
    "\n",
    "# Adding noise to data\n",
    "error = 0.1\n",
    "\n",
    "data_true_noise_Q = data_true[:,:9].copy()\n",
    "data_true_noise_IP = data_true[:,9:].copy()\n",
    "\n",
    "data_true_noise_Q *= np.random.randn(np.size(data_true_noise_Q)).reshape(np.shape(data_true_noise_Q))*error+1\n",
    "data_true_noise_IP *= np.random.randn(np.size(data_true_noise_IP)).reshape(np.shape(data_true_noise_IP))*error+1\n",
    "#data_true_noise *= np.random.normal(0.0, 0.04, size=np.shape(data_true))+1\n",
    "#data_true_noise *= np.random.randn(np.size(data_true)).reshape(np.shape(data_true))*error+1"
   ]
  },
  {
   "cell_type": "code",
   "execution_count": null,
   "id": "7059bd6f-9623-415d-a18f-68fd7033caca",
   "metadata": {},
   "outputs": [],
   "source": [
    "fig, ax = plt.subplots(3,2)\n",
    "\n",
    "ax[0,0].plot(data_true_noise_Q[:,0])\n",
    "ax[0,0].plot(data_true[:,0], '.')\n",
    "ax[0,0].plot(data_true_noise_Q[:,3])\n",
    "ax[0,0].plot(data_true[:,3], '.')\n",
    "ax[0,0].plot(data_true_noise_Q[:,6])\n",
    "ax[0,0].plot(data_true[:,6], '.')\n",
    "\n",
    "ax[1,0].plot(data_true_noise_Q[:,1])\n",
    "ax[1,0].plot(data_true[:,1], '.')\n",
    "ax[1,0].plot(data_true_noise_Q[:,4])\n",
    "ax[1,0].plot(data_true[:,4], '.')\n",
    "ax[1,0].plot(data_true_noise_Q[:,7])\n",
    "ax[1,0].plot(data_true[:,7], '.')\n",
    "\n",
    "ax[2,0].plot(data_true_noise_Q[:,2])\n",
    "ax[2,0].plot(data_true[:,2], '.')\n",
    "ax[2,0].plot(data_true_noise_Q[:,5])\n",
    "ax[2,0].plot(data_true[:,5], '.')\n",
    "ax[2,0].plot(data_true_noise_Q[:,8])\n",
    "ax[2,0].plot(data_true[:,8], '.')\n",
    "\n",
    "ax[0,1].plot(data_true_noise_IP[:,0])\n",
    "ax[0,1].plot(data_true[:,9], '.')\n",
    "ax[0,1].plot(data_true_noise_IP[:,3])\n",
    "ax[0,1].plot(data_true[:,12], '.')\n",
    "ax[0,1].plot(data_true_noise_IP[:,6])\n",
    "ax[0,1].plot(data_true[:,15], '.')\n",
    "\n",
    "ax[1,1].plot(data_true_noise_IP[:,1])\n",
    "ax[1,1].plot(data_true[:,10], '.')\n",
    "ax[1,1].plot(data_true_noise_IP[:,4])\n",
    "ax[1,1].plot(data_true[:,13], '.')\n",
    "ax[1,1].plot(data_true_noise_IP[:,7])\n",
    "ax[1,1].plot(data_true[:,16], '.')\n",
    "\n",
    "ax[2,1].plot(data_true_noise_IP[:,2])\n",
    "ax[2,1].plot(data_true[:,11], '.')\n",
    "ax[2,1].plot(data_true_noise_IP[:,5])\n",
    "ax[2,1].plot(data_true[:,14], '.')\n",
    "ax[2,1].plot(data_true_noise_IP[:,8])\n",
    "ax[2,1].plot(data_true[:,17], '.')"
   ]
  },
  {
   "cell_type": "code",
   "execution_count": null,
   "id": "09465474-297a-4413-98d6-88a4bb881d84",
   "metadata": {},
   "outputs": [],
   "source": [
    "data_true_noise = data_true.copy()\n",
    "data_true_noise[:,:9] = data_true_noise_Q\n",
    "data_true_noise[:,9:] = data_true_noise_IP\n",
    "\n",
    "np.save('../data/data_true_noise10_w_f', data_true_noise)"
   ]
  },
  {
   "cell_type": "code",
   "execution_count": null,
   "id": "197f4fd4-db4e-4985-b6e1-d2e39f7a1980",
   "metadata": {},
   "outputs": [],
   "source": [
    "fig, ax = plt.subplots(3,2, sharex=True)\n",
    "PlotData(data_true, ax=ax)\n",
    "#PlotData(data_true_noise, ax=ax)\n",
    "fig.suptitle('Not normalized')\n",
    "plt.tight_layout()"
   ]
  },
  {
   "cell_type": "code",
   "execution_count": null,
   "id": "c961d4fe-f8a2-4416-b9cc-b8e65e33e604",
   "metadata": {},
   "outputs": [],
   "source": [
    "#data_true_norm_noise = data_true_noise[:] * np.hstack([norm, norm, norm, norm, norm, norm])\n",
    "\n",
    "model_est_noise = model.copy()\n",
    "model_est_Q_noise = model.copy()\n",
    "model_est_IP_noise = model.copy()\n",
    "\n",
    "#LUT_norm_slice = LUT_norm[:,:15].copy()\n",
    "#LUT_norm_slice[:,:9] = LUT_norm[:,:9]\n",
    "#LUT_norm_slice[:,9:] = LUT_norm[:,12:]\n",
    "\n",
    "#data_true_norm_noise_slice = data_true_norm_noise[:,:15].copy()\n",
    "#data_true_norm_noise_slice[:,9:] = data_true_norm_noise[:,12:]\n",
    "\n",
    "# Estimate with both Quadrature and In Phase\n",
    "for p in range(npos):\n",
    "    #model_est_noise[p] = GlobalSearch(LUT_norm_slice, data_true_norm_noise_slice[p], conds, thick)\n",
    "    model_est_noise[p] = GlobalSearch(LUT, data_true_noise[p], conds, thick)\n",
    "    \n",
    "# Estimate using only Quadrature\n",
    "#for p in range(npos):\n",
    "    #model_est_Q_noise[p] = GlobalSearch(LUT_norm[:,:9], data_true_norm_noise[p,:9], conds, thick)\n",
    "    #model_est_Q_noise[p] = GlobalSearch(LUT[:,:9], data_true_noise_Q[p,:], conds, thick)\n",
    "    \n",
    "# Estimate using only Quadrature\n",
    "#for p in range(npos):\n",
    "    #model_est_IP_noise[p] = GlobalSearch(LUT_norm[:,9:], data_true_norm_noise[p,9:], conds, thick)\n",
    "    #model_est_IP_noise[p] = GlobalSearch(LUT[:,9:], data_true_noise_IP[p,:], conds, thick)"
   ]
  },
  {
   "cell_type": "code",
   "execution_count": null,
   "id": "e67ad8bf-f85b-4562-8e44-1e0d6335a1ac",
   "metadata": {},
   "outputs": [],
   "source": [
    "#fig, ax = plt.subplots(3,2, sharex=True)\n",
    "#PlotData(data_true_norm, ax=ax)\n",
    "#PlotData(data_true_norm_noise, ax=ax)\n",
    "#fig.suptitle('Normalized')\n",
    "#plt.tight_layout()"
   ]
  },
  {
   "cell_type": "code",
   "execution_count": null,
   "id": "8afeaa2a-9e92-4c37-bc57-a1b5b4cc5452",
   "metadata": {},
   "outputs": [],
   "source": [
    "np.save('../data/model_est_noise10_w_f', model_est_noise)\n",
    "#np.save('../data/model_est_Q_noise2_w', model_est_Q_noise)\n",
    "#np.save('../data/model_est_IP_noise2_w', model_est_IP_noise)"
   ]
  },
  {
   "cell_type": "code",
   "execution_count": null,
   "id": "846f1b3d-3770-4d3b-8dc0-03b4a5a97e90",
   "metadata": {},
   "outputs": [],
   "source": [
    "#Plot3Models_2lay(model, model_est_noise, model_est_Q_noise, conds)\n",
    "#plt.show()"
   ]
  },
  {
   "cell_type": "code",
   "execution_count": null,
   "id": "e4810559-bcbb-40b7-9d51-3bf69f51d39a",
   "metadata": {},
   "outputs": [],
   "source": [
    "sigmas_est_noise = model_est_noise[:,:2]\n",
    "depths_est_noise = depths.copy()\n",
    "depths_est_noise[:,1] = model_est_noise[:,2]\n",
    "\n",
    "model_est_grid_n = PlotModelCond_2lay(sigmas_est_noise, depths_est_noise, depths)\n",
    "plt.title('Global search: [Q + IP], noise = 10%')\n",
    "plt.text(0.1,9.5,'$\\sigma$ RMSE: %2.2f' %(rmse_a(np.log10(np.hstack(sigmas)),\n",
    "                np.log10(np.hstack(sigmas_est_noise)))*100)+ '% \\n' +\n",
    "                '$h$ RMSE: %2.2f' %(rmse_a(depths[:,1], depths_est_noise[:,1])*100)+'%', color='w',\n",
    "         fontsize=10)\n",
    "plt.text(0.1,-0.5,'c)', color='k',fontsize=15)\n",
    "plt.show()\n",
    "plt.tight_layout()\n",
    "#plt.savefig('../figures/GS_EstModel_Q+IP_2Lay_noise10_flip')\n",
    "\n"
   ]
  },
  {
   "cell_type": "code",
   "execution_count": null,
   "id": "8b5d207b-7b00-4b78-b4e9-14759b4fa38e",
   "metadata": {},
   "outputs": [],
   "source": [
    "fig, ax = plt.subplots()\n",
    "\n",
    "error_est = np.abs((model_true_grid-model_est_grid_n)/model_true_grid)*100\n",
    "cf = ax.imshow(np.log10(error_est).T, extent=[0,npos,10,0], vmin=0, vmax=2,\n",
    "          cmap=plt.cm.get_cmap(\"RdBu_r\", 8))\n",
    "cbar = fig.colorbar(cf, ax=ax, label=r\"Relative Error\",  shrink=0.5)\n",
    "cbar.set_ticks([ 0, 1, 2])\n",
    "cbar.ax.set_yticklabels([ r\"$1\\,\\%$\",\n",
    "                         r\"$10\\,\\%$\", r\"$100\\,\\%$\"])\n",
    "plt.title('Relative Error [Q + IP], noise: 10%')\n",
    "plt.text(0.1,-0.5,'f)', color='k',fontsize=15)\n",
    "plt.xlabel('Horizontal distance [m]')\n",
    "plt.ylabel('Depth [m]')"
   ]
  },
  {
   "cell_type": "code",
   "execution_count": null,
   "id": "f3f3c745-de17-4f02-980c-65dd5cd632d8",
   "metadata": {},
   "outputs": [],
   "source": [
    "sigmas_est_Q_noise = model_est_Q_noise[:,:2]\n",
    "depths_est_Q_noise = depths.copy()\n",
    "depths_est_Q_noise[:,1] = model_est_Q_noise[:,2]\n",
    "\n",
    "sigmas_est_IP_noise = model_est_IP_noise[:,:2]\n",
    "depths_est_IP_noise = depths.copy()\n",
    "depths_est_IP_noise[:,1] = model_est_IP_noise[:,2]\n",
    "\n",
    "model_est_grid_Q_n = PlotModelCond_2lay(sigmas_est_Q_noise, depths_est_Q_noise, depths)\n",
    "plt.title('Global search: [Q], noise = 2.5%')\n",
    "plt.text(0.1,9.5,'$\\sigma$ RMSE: %2.2f' %(rmse_a(np.log10(np.hstack(sigmas)),\n",
    "                np.log10(np.hstack(sigmas_est_Q_noise)))*100)+ '% \\n' +\n",
    "                '$h$ RMSE: %2.2f' %(rmse_a(depths[:,1], depths_est_Q_noise[:,1])*100)+'%', color='w',fontsize=10)\n",
    "plt.show()\n",
    "\n",
    "model_est_grid_IP_n = PlotModelCond_2lay(sigmas_est_IP_noise, depths_est_IP, depths)\n",
    "plt.title('Global search: [IP], noise = 2.5%')\n",
    "plt.text(0.1,9.5,'$\\sigma$ RMSE: %2.2f' %(rmse_a(np.log10(np.hstack(sigmas)),\n",
    "                np.log10(np.hstack(sigmas_est_IP_noise)))*100)+ '% \\n' +\n",
    "                '$h$ RMSE: %2.2f' %(rmse_a(depths[:,1], depths_est_IP_noise[:,1])*100)+'%', color='w',fontsize=10)\n",
    "plt.show()"
   ]
  },
  {
   "cell_type": "code",
   "execution_count": null,
   "id": "1900bdfb-e07e-4fd1-9141-3f9605fa07c7",
   "metadata": {},
   "outputs": [],
   "source": [
    "fig, ax = plt.subplots()\n",
    "\n",
    "error_est = np.abs((model_true_grid-model_est_grid_Q_n)/model_true_grid)*100\n",
    "cf = ax.imshow(np.log10(error_est).T, extent=[0,npos,10,0], vmin=0, vmax=2,\n",
    "          cmap=plt.cm.get_cmap(\"RdBu_r\", 8))\n",
    "cbar = fig.colorbar(cf, ax=ax, label=r\"Relative Error\",  shrink=0.5)\n",
    "cbar.set_ticks([ 0, 1, 2])\n",
    "cbar.ax.set_yticklabels([ r\"$1\\,\\%$\",\n",
    "                         r\"$10\\,\\%$\", r\"$100\\,\\%$\"])"
   ]
  },
  {
   "cell_type": "code",
   "execution_count": null,
   "id": "ed097083-3fbf-4c17-b9b8-f52894bded69",
   "metadata": {},
   "outputs": [],
   "source": [
    "fig, ax = plt.subplots()\n",
    "\n",
    "error_est = np.abs((model_true_grid-model_est_grid_IP_n)/model_true_grid)*100\n",
    "cf = ax.imshow(np.log10(error_est).T, extent=[0,npos,10,0], vmin=0, vmax=2,\n",
    "          cmap=plt.cm.get_cmap(\"RdBu_r\", 8))\n",
    "cbar = fig.colorbar(cf, ax=ax, label=r\"Relative Error\",  shrink=0.5)\n",
    "cbar.set_ticks([ 0, 1, 2])\n",
    "cbar.ax.set_yticklabels([ r\"$1\\,\\%$\",\n",
    "                         r\"$10\\,\\%$\", r\"$100\\,\\%$\"])"
   ]
  },
  {
   "cell_type": "code",
   "execution_count": null,
   "id": "2574f5dc-abc9-4a61-abd9-054749ae31b7",
   "metadata": {},
   "outputs": [],
   "source": [
    "data_noise2 = np.load('../data/data_true_noise2_w.npy')\n",
    "data_noise5 = np.load('../data/data_true_noise5_w.npy')\n",
    "data_noise10 = np.load('../data/data_true_noise10_w.npy')\n",
    "data_true = np.load('../data/data_true_w.npy')\n"
   ]
  },
  {
   "cell_type": "code",
   "execution_count": null,
   "id": "e2380954-4905-49cf-a759-b2589d61281b",
   "metadata": {},
   "outputs": [],
   "source": [
    "fig, ax = plt.subplots(3,2, sharex=True, figsize=(6,4))\n",
    "PlotData(data_true, ax=ax)\n",
    "PlotData(data_noise2, ax=ax, style=':', lab='Noise 2.5%')\n",
    "PlotData(data_noise5, ax=ax, style='--', lab='Noise 5%')\n",
    "PlotData(data_noise10, ax=ax, style='-*', lab= 'Noise 10%')\n",
    "plt.tight_layout()\n",
    "plt.savefig('Data_noise')"
   ]
  },
  {
   "cell_type": "markdown",
   "id": "1d84bc6a-0570-4680-830c-68dd787c4c16",
   "metadata": {},
   "source": [
    "### Figure cummulative sensitivity"
   ]
  },
  {
   "cell_type": "code",
   "execution_count": 3,
   "id": "7feda0e5-5dac-4d40-8a6f-a67557b09bf2",
   "metadata": {},
   "outputs": [],
   "source": [
    "from EM1D import R_HCP, R_VCP, R_PRP"
   ]
  },
  {
   "cell_type": "code",
   "execution_count": 10,
   "id": "f1872696-2c2c-4da0-821c-b791da3a0fe7",
   "metadata": {},
   "outputs": [],
   "source": [
    "# z represents depth/sep normalized depth\n",
    "\n",
    "z = np.linspace(0,10,100)\n",
    "s1 = 2\n",
    "s2 = 4\n",
    "s3 = 8\n",
    "s11 = 2.1\n",
    "s21 = 4.1\n",
    "s31 = 8.1\n",
    "\n",
    "CumSensH2 = R_HCP(z/s1)\n",
    "CumSensH4 = R_HCP(z/s2)\n",
    "CumSensH8 = R_HCP(z/s3)\n",
    "\n",
    "CumSensV2 = R_VCP(z/s1)\n",
    "CumSensV4 = R_VCP(z/s2)\n",
    "CumSensV8 = R_VCP(z/s3)\n",
    "\n",
    "CumSensP2 = R_PRP(z/s11)\n",
    "CumSensP4 = R_PRP(z/s21)\n",
    "CumSensP8 = R_PRP(z/s31)"
   ]
  },
  {
   "cell_type": "code",
   "execution_count": 15,
   "id": "43ce3af6-c0f3-4a46-b699-3dbc3a0fc181",
   "metadata": {},
   "outputs": [
    {
     "data": {
      "text/plain": [
       "<matplotlib.legend.Legend at 0x7f91e85d01c0>"
      ]
     },
     "execution_count": 15,
     "metadata": {},
     "output_type": "execute_result"
    },
    {
     "data": {
      "application/vnd.jupyter.widget-view+json": {
       "model_id": "d593085b16674752bd22a70ec9372ed7",
       "version_major": 2,
       "version_minor": 0
      },
      "image/png": "[encoded data removed]",
      "text/html": [
       "\n",
       "            <div style=\"display: inline-block;\">\n",
       "                <div class=\"jupyter-widgets widget-label\" style=\"text-align: center;\">\n",
       "                    Figure\n",
       "                </div>\n",
       "                <img src='data:image/png;base64,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' width=640.0/>\n",
       "            </div>\n",
       "        "
      ],
      "text/plain": [
       "Canvas(toolbar=Toolbar(toolitems=[('Home', 'Reset original view', 'home', 'home'), ('Back', 'Back to previous …"
      ]
     },
     "metadata": {},
     "output_type": "display_data"
    }
   ],
   "source": [
    "fig, ax = plt.subplots()\n",
    "\n",
    "ax.plot(CumSensH2,z, 'b', label='H2')\n",
    "ax.plot(CumSensH4,z, ':b', label='H4')\n",
    "ax.plot(CumSensH8,z, '--b', label='H8')\n",
    "\n",
    "ax.plot(CumSensV2,z, 'g', label='V2')\n",
    "ax.plot(CumSensV4,z, ':g', label='V4')\n",
    "ax.plot(CumSensV8,z, '--g', label='V8')\n",
    "\n",
    "ax.plot(CumSensP2,z, 'r', label='P2.1')\n",
    "ax.plot(CumSensP4,z, ':r', label='P4.1')\n",
    "ax.plot(CumSensP8,z, '--r', label='P8.1')\n",
    "\n",
    "ax.invert_yaxis()\n",
    "ax.set_ylabel('Depth [m]')\n",
    "ax.set_xlabel('Cummulative Sensitivity')\n",
    "ax.legend()"
   ]
  },
  {
   "cell_type": "code",
   "execution_count": null,
   "id": "3b3feed3-5fe9-400d-8c96-a177a7892a8f",
   "metadata": {},
   "outputs": [],
   "source": []
  }
 ],
 "metadata": {
  "kernelspec": {
   "display_name": "Python 3 (ipykernel)",
   "language": "python",
   "name": "python3"
  },
  "language_info": {
   "codemirror_mode": {
    "name": "ipython",
    "version": 3
   },
   "file_extension": ".py",
   "mimetype": "text/x-python",
   "name": "python",
   "nbconvert_exporter": "python",
   "pygments_lexer": "ipython3",
   "version": "3.8.10"
  }
 },
 "nbformat": 4,
 "nbformat_minor": 5
}
