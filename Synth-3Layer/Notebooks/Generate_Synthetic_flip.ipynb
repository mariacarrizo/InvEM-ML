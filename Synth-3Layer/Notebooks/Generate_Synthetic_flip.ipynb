{
 "cells": [
  {
   "cell_type": "code",
   "execution_count": 1,
   "id": "c1023dd2-1486-4e4c-a28d-0fff06c3e3d8",
   "metadata": {},
   "outputs": [],
   "source": [
    "### Code that creates synthetic model and synthetic data for a 1D 3 layered model\n",
    "\n",
    "## Import libraries\n",
    "\n",
    "import numpy as np\n",
    "import sys\n",
    "path = '../../src'\n",
    "sys.path.insert(0, path)"
   ]
  },
  {
   "cell_type": "code",
   "execution_count": 2,
   "id": "406841ce-8596-4364-bfb1-f3804d072df5",
   "metadata": {},
   "outputs": [],
   "source": [
    "# IMPORT FUNCTIONS HERE FOR FORWARD\n",
    "from EM1D import EMforward3lay\n",
    "\n",
    "## Survey geometry\n",
    "height = 0.47 # meters height From ground surface to center of coils\n",
    "\n",
    "## Define parameters for the synthetic model\n",
    "nlayer = 3 # number of layer\n",
    "npos = 20 # number of sampling positions\n",
    "\n",
    "sigmas = [1/10, 1/50, 1/10] # 3 layered conductivities\n",
    "sigmas = np.ones((npos, nlayer))*sigmas\n",
    "x = np.linspace(0, 20, npos)[:,None]\n",
    "thk1 = 2 + 0.2 * np.sin(x*np.pi*2) # wave shape boundary\n",
    "thk2 = 2 + np.sin(x*np.pi*2) # wave shape boundary\n",
    "\n",
    "## Create synthetic model and synthetic data\n",
    "# Create empty array for true model in each position\n",
    "model = []\n",
    "\n",
    "# Create empty array for true data in each position\n",
    "data = []\n",
    "\n",
    "for i in range(npos):\n",
    "    m_i = np.hstack((sigmas[i], thk1[i], thk2[i])) # True model\n",
    "    model.append(m_i)\n",
    "    data.append(EMforward3lay(m_i[0], m_i[1], m_i[2], m_i[3], m_i[4], height=height)) # creating data\n",
    "\n",
    "## Calculate normalization\n",
    "data = np.array(data)\n",
    "\n",
    "# noise 2.5%\n",
    "data_noise2_Q = data[:,:9].copy()\n",
    "data_noise2_IP = data[:,9:].copy()\n",
    "data_noise2 = np.zeros_like(data)\n",
    "error = 0.025\n",
    "\n",
    "data_noise2_Q *= np.random.randn(np.size(data_noise2_Q)).reshape(np.shape(data_noise2_Q))*error + 1\n",
    "data_noise2_IP *= np.random.randn(np.size(data_noise2_IP)).reshape(np.shape(data_noise2_IP))*error + 1\n",
    "data_noise2[:,:9] = data_noise2_Q\n",
    "data_noise2[:,9:] = data_noise2_IP\n",
    "\n",
    "# noise 5%\n",
    "data_noise5_Q = data[:,:9].copy()\n",
    "data_noise5_IP = data[:,9:].copy()\n",
    "data_noise5 = np.zeros_like(data)\n",
    "error = 0.05\n",
    "\n",
    "data_noise5_Q *= np.random.randn(np.size(data_noise5_Q)).reshape(np.shape(data_noise5_Q))*error + 1\n",
    "data_noise5_IP *= np.random.randn(np.size(data_noise5_IP)).reshape(np.shape(data_noise5_IP))*error + 1\n",
    "data_noise5[:,:9] = data_noise5_Q\n",
    "data_noise5[:,9:] = data_noise5_IP\n",
    "\n",
    "# noise 10%\n",
    "data_noise10_Q = data[:,:9].copy()\n",
    "data_noise10_IP = data[:,9:].copy()\n",
    "data_noise10 = np.zeros_like(data)\n",
    "error = 0.1\n",
    "\n",
    "data_noise10_Q *= np.random.randn(np.size(data_noise10_Q)).reshape(np.shape(data_noise10_Q))*error + 1\n",
    "data_noise10_IP *= np.random.randn(np.size(data_noise10_IP)).reshape(np.shape(data_noise10_IP))*error + 1\n",
    "data_noise10[:,:9] = data_noise10_Q\n",
    "data_noise10[:,9:] = data_noise10_IP"
   ]
  },
  {
   "cell_type": "code",
   "execution_count": 3,
   "id": "eef66820-dabd-4ba9-917c-d12143fa68c0",
   "metadata": {},
   "outputs": [],
   "source": [
    "## Save synthetic model and synthetic data\n",
    "np.save('../data/B2/model_synth_flip', model)\n",
    "np.save('../data/B2/data_synth_flip', data)\n",
    "np.save('../data/B2_noise2/data_synth_noise2_flip', data_noise2)\n",
    "np.save('../data/B2_noise5/data_synth_noise5_flip', data_noise5)\n",
    "np.save('../data/B2_noise10/data_synth_noise10_flip', data_noise10)"
   ]
  },
  {
   "cell_type": "code",
   "execution_count": null,
   "id": "588f0351-72a9-4f6c-877d-a3af0f81cadb",
   "metadata": {},
   "outputs": [],
   "source": []
  }
 ],
 "metadata": {
  "kernelspec": {
   "display_name": "Python 3 (ipykernel)",
   "language": "python",
   "name": "python3"
  },
  "language_info": {
   "codemirror_mode": {
    "name": "ipython",
    "version": 3
   },
   "file_extension": ".py",
   "mimetype": "text/x-python",
   "name": "python",
   "nbconvert_exporter": "python",
   "pygments_lexer": "ipython3",
   "version": "3.8.10"
  }
 },
 "nbformat": 4,
 "nbformat_minor": 5
}
