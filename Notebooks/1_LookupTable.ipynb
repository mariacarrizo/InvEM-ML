{
 "cells": [
  {
   "cell_type": "markdown",
   "id": "b37821a8-c57a-4633-92fe-dfaf3ea87d9f",
   "metadata": {},
   "source": [
    "# Generate Lookup Table for Two Layers"
   ]
  },
  {
   "cell_type": "code",
   "execution_count": 3,
   "id": "6740b461-1462-42b2-8ad1-9a16b225e660",
   "metadata": {},
   "outputs": [
    {
     "ename": "ModuleNotFoundError",
     "evalue": "No module named 'EM1D'",
     "output_type": "error",
     "traceback": [
      "\u001b[0;31m---------------------------------------------------------------------------\u001b[0m",
      "\u001b[0;31mModuleNotFoundError\u001b[0m                       Traceback (most recent call last)",
      "Cell \u001b[0;32mIn [3], line 11\u001b[0m\n\u001b[1;32m      8\u001b[0m \u001b[38;5;28;01mimport\u001b[39;00m \u001b[38;5;21;01msys\u001b[39;00m\n\u001b[1;32m      9\u001b[0m sys\u001b[38;5;241m.\u001b[39mpath\u001b[38;5;241m.\u001b[39minsert(\u001b[38;5;241m1\u001b[39m, \u001b[38;5;124m'\u001b[39m\u001b[38;5;124m../src\u001b[39m\u001b[38;5;124m'\u001b[39m)\n\u001b[0;32m---> 11\u001b[0m \u001b[38;5;28;01mfrom\u001b[39;00m \u001b[38;5;21;01mEM1D\u001b[39;00m \u001b[38;5;28;01mimport\u001b[39;00m EMforward2lay\n",
      "\u001b[0;31mModuleNotFoundError\u001b[0m: No module named 'EM1D'"
     ]
    }
   ],
   "source": [
    "import empymod\n",
    "import numpy as np\n",
    "import matplotlib.pyplot as plt\n",
    "import time\n",
    "from joblib import Parallel, delayed\n",
    "from scipy.constants import mu_0\n",
    "\n",
    "import sys\n",
    "sys.path.insert(1, '../src')\n",
    "\n",
    "from EM1D import EMforward2lay"
   ]
  },
  {
   "cell_type": "code",
   "execution_count": null,
   "id": "96450e06-ac7d-497c-8080-0ecb57370060",
   "metadata": {},
   "outputs": [],
   "source": []
  },
  {
   "cell_type": "markdown",
   "id": "dbb79c74-d8a9-4f49-acc2-1881c9f85188",
   "metadata": {},
   "source": [
    "## Define the geometry of the EM instrument"
   ]
  },
  {
   "cell_type": "code",
   "execution_count": null,
   "id": "7026ebda-635f-4c1e-85a3-ba3586f16601",
   "metadata": {},
   "outputs": [],
   "source": [
    "# Define Dualem-482 geometry\n",
    "\n",
    "offsets = np.array([2, 4, 8]) # in meters\n",
    "height = 0.10 # meters height From ground surface to center of coils\n",
    "\n",
    "# Frequency\n",
    "freq = 9000"
   ]
  },
  {
   "cell_type": "markdown",
   "id": "b02fd18f-7cbc-49d8-a6bd-8747a6310784",
   "metadata": {},
   "source": [
    "## Define the ranges of conductivities and thicknesses to sample"
   ]
  },
  {
   "cell_type": "code",
   "execution_count": null,
   "id": "73f4c4ad-2561-4243-8beb-15ca62e677ce",
   "metadata": {},
   "outputs": [],
   "source": [
    "# sampling of conductivities\n",
    "nsl = 51 # number of samples\n",
    "\n",
    "s0 = -3 # minimum conductivity in S/m\n",
    "s1 = 0 # maximum conductivity in S/m\n",
    "# conductivities array\n",
    "conds = np.logspace(s0, s1, nsl)\n",
    "\n",
    "# Sampling of 1st layer thickness\n",
    "th0 = 0.1 # minimum thickness in m\n",
    "th1 = 7   # maximum thickness in m\n",
    "# thickness array\n",
    "thicks = np.linspace(th0, th1, nsl)"
   ]
  },
  {
   "cell_type": "markdown",
   "id": "a21b4e09-4313-4264-bc87-e94282df1271",
   "metadata": {},
   "source": [
    "## Generate the Lookup Table"
   ]
  },
  {
   "cell_type": "code",
   "execution_count": null,
   "id": "4fea325c-4391-4726-8dbc-47d1cf6b13a0",
   "metadata": {},
   "outputs": [],
   "source": [
    "startTime = time.time()\n",
    "\n",
    "DataEM = Parallel(n_jobs=-1,verbose=1)(delayed(EMforward2lay)(sigma1, sigma2, thick1, offsets, height, freq) \\\n",
    "                                       for sigma1 in conds for sigma2 in conds for thick1 in thicks)\n",
    "\n",
    "executionTime = (time.time() - startTime)\n",
    "print('Execution time in seconds: ' + str(executionTime))"
   ]
  },
  {
   "cell_type": "markdown",
   "id": "ade2401a-baef-4e30-ba15-f4b7d2db1485",
   "metadata": {},
   "source": [
    "## Save the Lookup Table and the sampling parameters"
   ]
  },
  {
   "cell_type": "code",
   "execution_count": null,
   "id": "c8568165-293c-49cb-b764-ceaba2721ec9",
   "metadata": {},
   "outputs": [],
   "source": [
    "np.save('LookupTable2Layers', DataEM)\n",
    "np.save('conds_samples', conds)\n",
    "np.save('thick_samples', thicks)"
   ]
  },
  {
   "cell_type": "code",
   "execution_count": null,
   "id": "7d89477b-323d-40d1-a154-228cafaf150a",
   "metadata": {},
   "outputs": [],
   "source": []
  }
 ],
 "metadata": {
  "kernelspec": {
   "display_name": "Python 3 (ipykernel)",
   "language": "python",
   "name": "python3"
  },
  "language_info": {
   "codemirror_mode": {
    "name": "ipython",
    "version": 3
   },
   "file_extension": ".py",
   "mimetype": "text/x-python",
   "name": "python",
   "nbconvert_exporter": "python",
   "pygments_lexer": "ipython3",
   "version": "3.8.10"
  }
 },
 "nbformat": 4,
 "nbformat_minor": 5
}
